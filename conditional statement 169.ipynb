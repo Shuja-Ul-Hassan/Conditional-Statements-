{
 "cells": [
  {
   "cell_type": "code",
   "execution_count": null,
   "id": "5a566861",
   "metadata": {},
   "outputs": [
    {
     "name": "stdout",
     "output_type": "stream",
     "text": [
      "number is zero\n"
     ]
    }
   ],
   "source": [
    "# Write a program to check if a number is positive, negative, or zero.\n",
    "number=169\n",
    "if number>0:\n",
    "    print(\"number is positive\")\n",
    "elif number<0:\n",
    "    print(\"number is negative\")\n",
    "elif number==0:\n",
    "    \n",
    "    print(\"number is zero\")"
   ]
  },
  {
   "cell_type": "code",
   "execution_count": 8,
   "id": "631d5a24",
   "metadata": {},
   "outputs": [
    {
     "name": "stdout",
     "output_type": "stream",
     "text": [
      "It is a leap year\n"
     ]
    }
   ],
   "source": [
    "# Create a program to determine whether a given year is a leap year.\n",
    "year=2020\n",
    "if year%4==0:\n",
    "    print(\"It is a leap year\")\n",
    "else:\n",
    "    print('it is not a leap year')"
   ]
  }
 ],
 "metadata": {
  "kernelspec": {
   "display_name": "Python 3",
   "language": "python",
   "name": "python3"
  },
  "language_info": {
   "codemirror_mode": {
    "name": "ipython",
    "version": 3
   },
   "file_extension": ".py",
   "mimetype": "text/x-python",
   "name": "python",
   "nbconvert_exporter": "python",
   "pygments_lexer": "ipython3",
   "version": "3.11.9"
  }
 },
 "nbformat": 4,
 "nbformat_minor": 5
}
