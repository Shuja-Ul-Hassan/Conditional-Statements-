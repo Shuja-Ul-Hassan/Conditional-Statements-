{
 "cells": [
  {
   "cell_type": "code",
   "execution_count": null,
   "id": "5a566861",
   "metadata": {},
   "outputs": [
    {
     "name": "stdout",
     "output_type": "stream",
     "text": [
      "number is zero\n"
     ]
    }
   ],
   "source": [
    "# Write a program to check if a number is positive, negative, or zero.\n",
    "number=169\n",
    "if number>0:\n",
    "    print(\"number is positive\")\n",
    "elif number<0:\n",
    "    print(\"number is negative\")\n",
    "elif number==0:\n",
    "    \n",
    "    print(\"number is zero\")"
   ]
  },
  {
   "cell_type": "code",
   "execution_count": null,
   "id": "631d5a24",
   "metadata": {},
   "outputs": [
    {
     "name": "stdout",
     "output_type": "stream",
     "text": [
      "It is a leap year\n"
     ]
    }
   ],
   "source": [
    "# Create a program to determine whether a given year is a leap year.\n",
    "year=2020\n",
    "if year%4==0:\n",
    "    print(\"It is a leap year\")\n",
    "else:\n",
    "    print('it is not a leap year')"
   ]
  },
  {
   "cell_type": "code",
   "execution_count": 2,
   "id": "58e4893c",
   "metadata": {},
   "outputs": [
    {
     "name": "stdout",
     "output_type": "stream",
     "text": [
      "10 + 5 = 15\n"
     ]
    }
   ],
   "source": [
    "# Build a simple calculator that asks for two numbers and an operator (+, -, *, /) and prints the result.\n",
    "num1=10\n",
    "num2=5\n",
    "operator='+'\n",
    "\n",
    "if operator == '+':\n",
    "    result = num1+num2\n",
    "elif operator == '-':\n",
    "    result = num1-num2\n",
    "elif operator == '*':\n",
    "    result = num1*num2\n",
    "elif operator == '/':\n",
    "    result = num1 / num2 \n",
    "else:\n",
    "    result = \"Error: Invalid Input\"\n",
    "\n",
    "print(f\"{num1} {operator} {num2} = {result}\")\n",
    "\n"
   ]
  },
  {
   "cell_type": "code",
   "execution_count": 5,
   "id": "a46c1d02",
   "metadata": {},
   "outputs": [
    {
     "name": "stdout",
     "output_type": "stream",
     "text": [
      "Grade: C\n"
     ]
    }
   ],
   "source": [
    "'''Write a Python program that accepts a student's marks and prints the appropriate grade based on the following criteria:\n",
    "A: 85 and above\n",
    "B: 70 to 84\n",
    "C: 50 to 69\n",
    "F: Below 50'''\n",
    "\n",
    "marks=68\n",
    "if marks>=85:\n",
    "    grade='A'\n",
    "elif marks>=70:\n",
    "    grade='B'\n",
    "elif marks>=50:\n",
    "    grade='C'\n",
    "else:\n",
    "    grade='F'\n",
    "\n",
    "print(f\"Grade: {grade}\")\n",
    "\n"
   ]
  }
 ],
 "metadata": {
  "kernelspec": {
   "display_name": "Python 3",
   "language": "python",
   "name": "python3"
  },
  "language_info": {
   "codemirror_mode": {
    "name": "ipython",
    "version": 3
   },
   "file_extension": ".py",
   "mimetype": "text/x-python",
   "name": "python",
   "nbconvert_exporter": "python",
   "pygments_lexer": "ipython3",
   "version": "3.11.9"
  }
 },
 "nbformat": 4,
 "nbformat_minor": 5
}
